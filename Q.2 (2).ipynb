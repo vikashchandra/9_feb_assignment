{
 "cells": [
  {
   "cell_type": "code",
   "execution_count": null,
   "id": "72923c07-ef01-481e-806d-9ee385157291",
   "metadata": {},
   "outputs": [],
   "source": [
    "\"\"\"\n",
    "Abstraction and encapsulation are two fundamental concepts in\n",
    "object-oriented programming (OOP) that help in designing and\n",
    "structuring software systems. They serve different purposes but\n",
    "are closely related.\n",
    "\n",
    "1. Abstraction:\n",
    "Abstraction is the process of simplifying complex systems by\n",
    "breaking them down into smaller, more manageable parts while \n",
    "hiding the unnecessary details. It focuses on exposing only the\n",
    "essential features of an object or a system and hiding the\n",
    "implementation details. In other words, abstraction allows you \n",
    "to create a high-level view of an object or system without \n",
    "getting into the nitty-gritty details.\n",
    "\n",
    "Example in Python:\n",
    "\n",
    "\"\"\""
   ]
  },
  {
   "cell_type": "code",
   "execution_count": 2,
   "id": "549c2e7b-10ed-43d9-98ce-fa1d76a9464c",
   "metadata": {},
   "outputs": [],
   "source": [
    "class Shape:\n",
    "    def area(self):\n",
    "        pass\n",
    "\n",
    "class Circle(Shape):\n",
    "    def __init__(self, radius):\n",
    "        self.radius = radius\n",
    "\n",
    "    def area(self):\n",
    "        return 3.14 * self.radius * self.radius\n",
    "\n",
    "class Square(Shape):\n",
    "    def __init__(self, side_length):\n",
    "        self.side_length = side_length\n",
    "\n",
    "    def area(self):\n",
    "        return self.side_length * self.side_length\n"
   ]
  },
  {
   "cell_type": "code",
   "execution_count": null,
   "id": "23e40c28-9598-41b8-bca1-1e486748977f",
   "metadata": {},
   "outputs": [],
   "source": [
    "\"\"\"\n",
    "In this example, Shape is an abstract base class that defines a\n",
    "common interface for calculating the area of different shapes. \n",
    "It has a method area() which is meant to be overridden by its\n",
    "subclasses like Circle and Square. By defining the Shape class, \n",
    "we abstract away the details of specific shapes and focus on the\n",
    "common concept of shape and its area.\n",
    "\n",
    "2. Encapsulation:\n",
    "Encapsulation is the concept of bundling data (attributes) and \n",
    "the methods (functions) that operate on that data into a single\n",
    "unit called a class. It involves restricting access to certain \n",
    "parts of an object, typically by using access \n",
    "modifiers (e.g., public, private, protected). \n",
    "The idea is to hide the internal state of an object and provide\n",
    "controlled access to it through well-defined interfaces. \n",
    "This helps in maintaining the integrity and consistency of data\n",
    "by preventing unauthorized access and manipulation.\n",
    "\n",
    "Example in Python:\n",
    "\"\"\"\n"
   ]
  },
  {
   "cell_type": "code",
   "execution_count": null,
   "id": "ba77d9bc-7d51-4191-b80c-a5e5ac2173d0",
   "metadata": {},
   "outputs": [],
   "source": [
    "class BankAccount:\n",
    "    def __init__(self, account_number, balance):\n",
    "        self._account_number = account_number \n",
    "        # Encapsulation using '_'\n",
    "        self._balance = balance\n",
    "\n",
    "    def deposit(self, amount):\n",
    "        if amount > 0:\n",
    "            self._balance += amount\n",
    "\n",
    "    def withdraw(self, amount):\n",
    "        if 0 < amount <= self._balance:\n",
    "            self._balance -= amount\n",
    "\n",
    "    def get_balance(self):\n",
    "        return self._balance\n",
    "\n",
    "# Usage\n",
    "account = BankAccount(\"12345\", 1000)\n",
    "account.deposit(500)\n",
    "account.withdraw(200)\n",
    "print(account.get_balance()) \n",
    "# Accessing balance through a method"
   ]
  },
  {
   "cell_type": "code",
   "execution_count": null,
   "id": "23e225cd-c93b-4062-9116-77c91ca8f1af",
   "metadata": {},
   "outputs": [],
   "source": [
    "\"\"\"\n",
    "In this example, BankAccount encapsulates the account number and \n",
    "balance as private attributes (indicated by the '_' prefix). \n",
    "It provides methods like deposit, withdraw, and get_balance to \n",
    "interact with these attributes. Encapsulation ensures that the \n",
    "internal state of a bank account is not directly accessible from \n",
    "outside the class, promoting data integrity and controlled access.\n",
    "\n",
    "\n",
    "In summary, abstraction focuses on simplifying complex systems\n",
    "by exposing essential features and hiding implementation details,\n",
    "while encapsulation bundles data and methods into a single unit \n",
    "and restricts access to the internal state of an object to \n",
    "maintain data integrity. Both concepts are crucial for creating \n",
    "well-structured and maintainable code in object-oriented \n",
    "programming.\"\"\""
   ]
  }
 ],
 "metadata": {
  "kernelspec": {
   "display_name": "Python 3 (ipykernel)",
   "language": "python",
   "name": "python3"
  },
  "language_info": {
   "codemirror_mode": {
    "name": "ipython",
    "version": 3
   },
   "file_extension": ".py",
   "mimetype": "text/x-python",
   "name": "python",
   "nbconvert_exporter": "python",
   "pygments_lexer": "ipython3",
   "version": "3.10.8"
  }
 },
 "nbformat": 4,
 "nbformat_minor": 5
}
