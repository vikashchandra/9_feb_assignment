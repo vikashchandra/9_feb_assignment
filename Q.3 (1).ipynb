{
 "cells": [
  {
   "cell_type": "code",
   "execution_count": null,
   "id": "7b1fb3fe-476e-4f28-86ad-1e49ad0f8a55",
   "metadata": {},
   "outputs": [],
   "source": [
    "\"\"\"\n",
    "In Python, the abc module stands for \"Abstract Base Classes.\" \n",
    "It is a module that provides mechanisms for defining abstract \n",
    "base classes in Python. Abstract base classes are a way to define\n",
    "a common interface or set of methods that must be implemented by \n",
    "subclasses. They help enforce a certain structure or behavior in\n",
    "derived classes.\n",
    "\n",
    "The abc module is used for several purposes:\n",
    "\n",
    "1. Defining Abstract Base Classes: You can use the abc module to \n",
    "create abstract base classes by subclassing the ABC class \n",
    "provided by the module. These abstract base classes can define \n",
    "abstract methods, which are methods that have no implementation \n",
    "in the base class but must be implemented in concrete (derived) \n",
    "classes.\n",
    "\n",
    "2. Enforcing Method Implementation: When you define abstract \n",
    "methods in an abstract base class, any concrete subclass that \n",
    "inherits from the abstract base class must implement these \n",
    "methods. If a subclass fails to implement one of these abstract\n",
    "methods, Python will raise a TypeError at runtime, indicating\n",
    "that the subclass is not \"concrete\" enough.\n",
    "\n",
    "3. Providing a Common Interface: Abstract base classes allow you\n",
    "to define a common interface that multiple classes can adhere \n",
    "to, ensuring that they provide specific functionality. This can\n",
    "help make your code more predictable and maintainable.\n",
    "\n",
    "Here's a simple example of how the abc module can be used to \n",
    "\n",
    "create an abstract base class:\n",
    "\"\"\"\n"
   ]
  },
  {
   "cell_type": "code",
   "execution_count": 1,
   "id": "c27ff38c-f8bb-4bf6-be18-06e4d1f7022f",
   "metadata": {},
   "outputs": [],
   "source": [
    "from abc import ABC, abstractmethod\n",
    "\n",
    "class Shape(ABC):\n",
    "    @abstractmethod\n",
    "    def area(self):\n",
    "        pass\n",
    "\n",
    "class Circle(Shape):\n",
    "    def __init__(self, radius):\n",
    "        self.radius = radius\n",
    "\n",
    "    def area(self):\n",
    "        return 3.14159 * self.radius * self.radius\n",
    "\n",
    "class Square(Shape):\n",
    "    def __init__(self, side_length):\n",
    "        self.side_length = side_length\n",
    "\n",
    "    def area(self):\n",
    "        return self.side_length * self.side_length\n"
   ]
  },
  {
   "cell_type": "code",
   "execution_count": null,
   "id": "23eaf58c-f299-4b7b-8f38-f9405fd29393",
   "metadata": {},
   "outputs": [],
   "source": [
    "\"\"\"    \n",
    "In this example, the Shape class is an abstract base class with\n",
    "an abstract method area(). Both Circle and Square are concrete \n",
    "subclasses of Shape, and they must provide an implementation for\n",
    "the area() method. If you try to create an instance of Shape or\n",
    "a subclass without implementing the area() method, Python will\n",
    "raise an error.\n",
    "\n",
    "The abc module is a useful tool for creating structured and \n",
    "maintainable code in Python, especially when you want to ensure \n",
    "that specific methods are implemented in subclasses.\n",
    "\"\"\""
   ]
  }
 ],
 "metadata": {
  "kernelspec": {
   "display_name": "Python 3 (ipykernel)",
   "language": "python",
   "name": "python3"
  },
  "language_info": {
   "codemirror_mode": {
    "name": "ipython",
    "version": 3
   },
   "file_extension": ".py",
   "mimetype": "text/x-python",
   "name": "python",
   "nbconvert_exporter": "python",
   "pygments_lexer": "ipython3",
   "version": "3.10.8"
  }
 },
 "nbformat": 4,
 "nbformat_minor": 5
}
