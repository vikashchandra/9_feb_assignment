{
 "cells": [
  {
   "cell_type": "code",
   "execution_count": 3,
   "id": "4e80f475-8012-4641-9825-57025cf6724d",
   "metadata": {},
   "outputs": [
    {
     "name": "stdout",
     "output_type": "stream",
     "text": [
      "My Car's engine started.\n",
      "My Car is driving.\n",
      "My Car stopped.\n",
      "Bicycle doesn't have an engine.\n",
      "Bicycle is being pedaled.\n",
      "Bicycle stopped.\n"
     ]
    }
   ],
   "source": [
    "\"\"\"\n",
    "Abstraction in object-oriented programming (OOP) is a concept that\n",
    "involves simplifying complex systems by representing only the\n",
    "essential features of an object while hiding the unnecessary \n",
    "details. It is one of the fundamental principles of OOP, along\n",
    "with encapsulation, inheritance, and polymorphism.\n",
    "\n",
    "In Python, abstraction is often achieved through the use of \n",
    "abstract classes and methods. You can create abstract classes \n",
    "using the abc module, which stands for \"Abstract Base Classes.\" \n",
    "These abstract classes define a set of methods that must be \n",
    "implemented by concrete subclasses.\n",
    "\n",
    "Here's an example in Python to illustrate abstraction in OOP:\n",
    "\n",
    "python\n",
    "Copy code\n",
    "\"\"\"\n",
    "from abc import ABC, abstractmethod\n",
    "\n",
    "# Define an abstract class called 'Vehicle' using ABC\n",
    "class Vehicle(ABC):\n",
    "    def __init__(self, name):\n",
    "        self.name = name\n",
    "\n",
    "    @abstractmethod\n",
    "    def start_engine(self):\n",
    "        pass\n",
    "\n",
    "    @abstractmethod\n",
    "    def stop_vehicle(self):\n",
    "        pass\n",
    "\n",
    "# Create a concrete class for a 'Car' that inherits from 'Vehicle'\n",
    "class Car(Vehicle):\n",
    "    def start_engine(self):\n",
    "        print(f\"{self.name}'s engine started.\")\n",
    "\n",
    "    def stop_vehicle(self):\n",
    "        print(f\"{self.name} stopped.\")\n",
    "\n",
    "    def drive(self):\n",
    "        print(f\"{self.name} is driving.\")\n",
    "\n",
    "# Create a concrete class for a 'Bicycle' that inherits from 'Vehicle'\n",
    "class Bicycle(Vehicle):\n",
    "    def start_engine(self):\n",
    "        print(\"Bicycle doesn't have an engine.\")\n",
    "\n",
    "    def stop_vehicle(self):\n",
    "        print(\"Bicycle stopped.\")\n",
    "\n",
    "    def pedal(self):\n",
    "        print(\"Bicycle is being pedaled.\")\n",
    "\n",
    "# Instantiate objects of the 'Car' and 'Bicycle' classes\n",
    "my_car = Car(\"My Car\")\n",
    "my_bicycle = Bicycle(\"My Bicycle\")\n",
    "\n",
    "# Use the abstracted interface to interact with the objects\n",
    "my_car.start_engine()\n",
    "my_car.drive()\n",
    "my_car.stop_vehicle()\n",
    "\n",
    "my_bicycle.start_engine()\n",
    "my_bicycle.pedal()\n",
    "my_bicycle.stop_vehicle()\n"
   ]
  },
  {
   "cell_type": "code",
   "execution_count": 4,
   "id": "0e5a6c7b-4678-4ec5-afd1-eea471dea6e3",
   "metadata": {},
   "outputs": [
    {
     "data": {
      "text/plain": [
       "'\\nIn this Python example:\\n\\nWe define an abstract class Vehicle using the ABC module.\\nThis class includes an initializer that sets a name attribute \\nand defines two abstract methods, start_engine() and\\nstop_vehicle(). These abstract methods serve as placeholders \\nthat must be implemented by concrete subclasses.\\n\\nWe create concrete classes Car and Bicycle, both of which\\ninherit from the Vehicle class. These concrete classes provide\\nspecific implementations for the abstract methods and can also\\nhave additional methods unique to each type of vehicle.\\n\\nWe instantiate objects of the Car and Bicycle classes and \\ndemonstrate how to use the abstracted interface to start the \\nengine, stop the vehicle, and perform specific actions related \\nto each type of vehicle.\\n\\nAbstraction allows us to define a common interface for different\\ntypes of vehicles while enforcing that each vehicle type must\\nimplement essential methods. This helps in organizing and \\nsimplifying code, making it more maintainable and extensible'"
      ]
     },
     "execution_count": 4,
     "metadata": {},
     "output_type": "execute_result"
    }
   ],
   "source": [
    "\"\"\"\n",
    "In this Python example:\n",
    "\n",
    "We define an abstract class Vehicle using the ABC module.\n",
    "This class includes an initializer that sets a name attribute \n",
    "and defines two abstract methods, start_engine() and\n",
    "stop_vehicle(). These abstract methods serve as placeholders \n",
    "that must be implemented by concrete subclasses.\n",
    "\n",
    "We create concrete classes Car and Bicycle, both of which\n",
    "inherit from the Vehicle class. These concrete classes provide\n",
    "specific implementations for the abstract methods and can also\n",
    "have additional methods unique to each type of vehicle.\n",
    "\n",
    "We instantiate objects of the Car and Bicycle classes and \n",
    "demonstrate how to use the abstracted interface to start the \n",
    "engine, stop the vehicle, and perform specific actions related \n",
    "to each type of vehicle.\n",
    "\n",
    "Abstraction allows us to define a common interface for different\n",
    "types of vehicles while enforcing that each vehicle type must\n",
    "implement essential methods. This helps in organizing and \n",
    "simplifying code, making it more maintainable and extensible\"\"\""
   ]
  },
  {
   "cell_type": "code",
   "execution_count": null,
   "id": "27d8bbed-1615-485f-9f51-2459673bf3bf",
   "metadata": {},
   "outputs": [],
   "source": []
  }
 ],
 "metadata": {
  "kernelspec": {
   "display_name": "Python 3 (ipykernel)",
   "language": "python",
   "name": "python3"
  },
  "language_info": {
   "codemirror_mode": {
    "name": "ipython",
    "version": 3
   },
   "file_extension": ".py",
   "mimetype": "text/x-python",
   "name": "python",
   "nbconvert_exporter": "python",
   "pygments_lexer": "ipython3",
   "version": "3.10.8"
  }
 },
 "nbformat": 4,
 "nbformat_minor": 5
}
