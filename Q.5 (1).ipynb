{
 "cells": [
  {
   "cell_type": "code",
   "execution_count": null,
   "id": "62391127-fe36-40d6-b08e-95de483ea88b",
   "metadata": {},
   "outputs": [],
   "source": [
    "\"\"\"\n",
    "In Python, you cannot create an instance of an abstract class \n",
    "directly. Attempting to do so will result in a TypeError. \n",
    "Abstract classes are meant to be used as base classes for other \n",
    "classes, and they are designed to be subclassed rather than\n",
    "instantiated.\n",
    "\n",
    "Abstract classes are defined using the abc module in Python, and\n",
    "they often contain one or more abstract methods. Abstract methods\n",
    "are methods that are declared in the abstract class but do not \n",
    "have an implementation. Subclasses of the abstract class are \n",
    "required to provide concrete implementations for these abstract\n",
    "methods.\n",
    "\n",
    "Here's an example of how to create an abstract class and a \n",
    "subclass that provides concrete implementations for its abstract\n",
    "methods:\n",
    "\"\"\"\n"
   ]
  },
  {
   "cell_type": "code",
   "execution_count": 1,
   "id": "6ae13f5d-5ba4-4464-8843-cab7eddfa2ea",
   "metadata": {},
   "outputs": [
    {
     "name": "stdout",
     "output_type": "stream",
     "text": [
      "This is a concrete implementation of abstract_method\n"
     ]
    }
   ],
   "source": [
    "\n",
    "from abc import ABC, abstractmethod\n",
    "\n",
    "class AbstractClass(ABC):\n",
    "    @abstractmethod\n",
    "    def abstract_method(self):\n",
    "        pass\n",
    "\n",
    "class Subclass(AbstractClass):\n",
    "    def abstract_method(self):\n",
    "        return \"This is a concrete implementation of abstract_method\"\n",
    "\n",
    "# Attempting to create an instance of the abstract class will\n",
    "#result in a TypeError\n",
    "# obj = AbstractClass()  # This will raise a TypeError\n",
    "\n",
    "# Creating an instance of the subclass is allowed\n",
    "obj = Subclass()\n",
    "print(obj.abstract_method())  \n",
    "# Output: This is a concrete implementation of abstract_method\n"
   ]
  },
  {
   "cell_type": "code",
   "execution_count": null,
   "id": "7177cd97-f6f8-427e-b604-0aa6a10a8f03",
   "metadata": {},
   "outputs": [],
   "source": [
    "\"\"\"\n",
    "In this example, AbstractClass is an abstract class with an\n",
    "abstract method abstract_method(). The Subclass class is a\n",
    "concrete subclass of AbstractClass that provides an implementation\n",
    "for abstract_method(). You can create an instance of Subclass and\n",
    "call its methods, but you cannot create an instance of\n",
    "AbstractClass itself.\n",
    "\"\"\""
   ]
  }
 ],
 "metadata": {
  "kernelspec": {
   "display_name": "Python 3 (ipykernel)",
   "language": "python",
   "name": "python3"
  },
  "language_info": {
   "codemirror_mode": {
    "name": "ipython",
    "version": 3
   },
   "file_extension": ".py",
   "mimetype": "text/x-python",
   "name": "python",
   "nbconvert_exporter": "python",
   "pygments_lexer": "ipython3",
   "version": "3.10.8"
  }
 },
 "nbformat": 4,
 "nbformat_minor": 5
}
